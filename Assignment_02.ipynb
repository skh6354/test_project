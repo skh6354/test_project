{
  "nbformat": 4,
  "nbformat_minor": 0,
  "metadata": {
    "colab": {
      "name": "Assignment 02.ipynb",
      "provenance": [],
      "collapsed_sections": [],
      "include_colab_link": true
    },
    "kernelspec": {
      "name": "python3",
      "display_name": "Python 3"
    },
    "language_info": {
      "name": "python"
    }
  },
  "cells": [
    {
      "cell_type": "markdown",
      "metadata": {
        "id": "view-in-github",
        "colab_type": "text"
      },
      "source": [
        "<a href=\"https://colab.research.google.com/github/skh6354/test_project/blob/main/Assignment_02.ipynb\" target=\"_parent\"><img src=\"https://colab.research.google.com/assets/colab-badge.svg\" alt=\"Open In Colab\"/></a>"
      ]
    },
    {
      "cell_type": "code",
      "execution_count": 2,
      "metadata": {
        "colab": {
          "base_uri": "https://localhost:8080/"
        },
        "id": "N9YUsOry9nD0",
        "outputId": "6bf931c2-748b-4b7d-b218-1e7d3957f6b8"
      },
      "outputs": [
        {
          "output_type": "stream",
          "name": "stdout",
          "text": [
            "김밥의 가격은? 5000\n"
          ]
        },
        {
          "output_type": "execute_result",
          "data": {
            "text/plain": [
              "dict_values([5000, 3000, 2000])"
            ]
          },
          "metadata": {},
          "execution_count": 2
        }
      ],
      "source": [
        "# 사전의 구조와 이해\n",
        "\n",
        "price = {'김밥': 5000, '어묵':3000, '떡볶이':2000}\n",
        "\n",
        "print('김밥의 가격은?',(price['김밥']))\n",
        "\n",
        "price.values()"
      ]
    },
    {
      "cell_type": "code",
      "source": [
        "# 리스트의 슬라이싱을 사용하여 아래를 출력하세요\n",
        "\n",
        "tp = [1,2,3,4,5,6,7]\n",
        "\n",
        "print(tp[0])\n",
        "\n",
        "print(tp[0:3])\n",
        "\n",
        "print(tp[3:7])\n",
        "\n",
        "print(tp[6])\n",
        "\n",
        "tp.sort(reverse=True)\n",
        "\n",
        "print(tp)"
      ],
      "metadata": {
        "colab": {
          "base_uri": "https://localhost:8080/"
        },
        "id": "lQCEERSl-Wba",
        "outputId": "2b318765-e1b9-43d0-cb42-dc3dd76e4c4d"
      },
      "execution_count": 1,
      "outputs": [
        {
          "output_type": "stream",
          "name": "stdout",
          "text": [
            "1\n",
            "[1, 2, 3]\n",
            "[4, 5, 6, 7]\n",
            "7\n",
            "[7, 6, 5, 4, 3, 2, 1]\n"
          ]
        }
      ]
    },
    {
      "cell_type": "code",
      "source": [
        "# 조건문\n",
        "# 점수를 입력받아 등급을 출력하세요\n",
        "# 등급표 81~100\tA / 61~80\tB / 41~60\tC / 21~40\tD / 0~20\tE\n",
        "\n",
        "score = int(input(\"점수를 입력하세요: \"))\n",
        "\n",
        "if 80 < score <= 100 :\n",
        "  print(\"점수는 %s이며 등급은 A 입니다.\"%(score))\n",
        "elif 60 < score <= 80 :\n",
        "  print(\"점수는 %s이며 등급은 B 입니다.\"%(score))\n",
        "elif 40 < score <= 60 :\n",
        "  print(\"점수는 %s이며 등급은 C 입니다.\"%(score))\n",
        "elif 20 < score <= 40 :\n",
        "  print(\"점수는 %s이며 등급은 D 입니다.\"%(score))\n",
        "elif 0< score <= 20 :\n",
        "  print(\"점수는 %s이며 등급은 E 입니다.\"%(score))\n",
        "\n",
        "#\n",
        "######################\n"
      ],
      "metadata": {
        "colab": {
          "base_uri": "https://localhost:8080/"
        },
        "id": "YxX6NxrNCK5z",
        "outputId": "e652906a-2983-473b-b493-ccdfed408631"
      },
      "execution_count": 4,
      "outputs": [
        {
          "output_type": "stream",
          "name": "stdout",
          "text": [
            "점수를 입력하세요: 67\n",
            "점수는 67이며 등급은 B 입니다.\n"
          ]
        }
      ]
    },
    {
      "cell_type": "code",
      "source": [
        "# 함수를 만들고 두 수를 입력받아 연산하세요\n",
        "\n",
        "a = int(input('첫 번째 정수를 입력하세요: '))\n",
        "b = int(input('두 번째 정수를 입력하세요: '))\n",
        "\n",
        "sum = a+b\n",
        "gop = a*b\n",
        "squared = a**b\n",
        "print(\"덧셈 함수 연산 : %s\"%(sum))\n",
        "print(\"곱셈 함수 연산 : %s\"%(gop))\n",
        "print(\"제곱 함수 연산 : %s\"%(squared))\n",
        "\n",
        "\n",
        "\n",
        "#\n",
        "######################\n"
      ],
      "metadata": {
        "colab": {
          "base_uri": "https://localhost:8080/"
        },
        "id": "mD9n7jRG-8qL",
        "outputId": "0e5f10c8-52d4-4375-cbef-64d92ddfa1ff"
      },
      "execution_count": 5,
      "outputs": [
        {
          "output_type": "stream",
          "name": "stdout",
          "text": [
            "첫 번째 정수를 입력하세요: 3\n",
            "두 번째 정수를 입력하세요: 5\n",
            "덧셈 함수 연산 : 8\n",
            "곱셈 함수 연산 : 15\n",
            "제곱 함수 연산 : 243\n"
          ]
        }
      ]
    },
    {
      "cell_type": "code",
      "source": [
        "# 알고리즘 생성\n",
        "# 피보나치 수열을 계산하는 함수를 생성하고 자연수 10을 넣어 실행하세요\n",
        "\n",
        "def pivo(n):\n",
        "  piv = [0,1]\n",
        "  for i in range(2, n+1):\n",
        "    piv.append(piv[i-2] + piv[i-1])\n",
        "  return piv[n]\n",
        "\n",
        "\n",
        "print(pivo(10))\n"
      ],
      "metadata": {
        "colab": {
          "base_uri": "https://localhost:8080/"
        },
        "id": "OL3QMyusC9V0",
        "outputId": "1add305b-ae46-42f0-9d88-0a675cd2b757"
      },
      "execution_count": 12,
      "outputs": [
        {
          "output_type": "stream",
          "name": "stdout",
          "text": [
            "55\n"
          ]
        }
      ]
    },
    {
      "cell_type": "code",
      "source": [
        "# 클래스\n",
        "# 사람 (Human) 클래스를 정의하고 (이름, 나이, 성별)을 받는 생성자를 추가하세요.\n",
        "\n",
        "class Human :\n",
        "    def __init__(self, name, age, gender):\n",
        "      self.name = name \n",
        "      self.age = age\n",
        "      self.gender = gender\n",
        "\n",
        "    def info(self):\n",
        "      print(f\"이름:{self.name}, 나이:{self.age}, 성별:{self.gender}\")\n",
        "\n",
        "Song = Human(\"송경헌\",25,\"남자\")\n",
        "Song.info()\n"
      ],
      "metadata": {
        "id": "nYv044w8Ae0Z",
        "colab": {
          "base_uri": "https://localhost:8080/"
        },
        "outputId": "2efad1a2-6267-4b82-da2a-0a816d33d0ee"
      },
      "execution_count": 43,
      "outputs": [
        {
          "output_type": "stream",
          "name": "stdout",
          "text": [
            "이름:송경헌, 나이:25, 성별:남자\n"
          ]
        }
      ]
    }
  ]
}